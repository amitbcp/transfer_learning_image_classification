{
 "cells": [
  {
   "cell_type": "code",
   "execution_count": 1,
   "metadata": {},
   "outputs": [],
   "source": [
    "%matplotlib inline\n",
    "import numpy as np\n",
    "from sklearn.cluster import DBSCAN\n",
    "from sklearn.preprocessing import StandardScaler\n",
    "import matplotlib.pyplot as plt\n",
    "from sklearn.datasets.samples_generator import make_blobs\n",
    "import os\n",
    "import shutil"
   ]
  },
  {
   "cell_type": "code",
   "execution_count": 2,
   "metadata": {},
   "outputs": [],
   "source": [
    "# Create random data and store in feature matrix X and response vector y\n",
    "#X, y = make_blobs(n_samples=1500, centers=[[2, 1], [-4, -2], [1, -4]], cluster_std=0.7)\n",
    "data = np.load('feature_vector.npy')\n",
    "\n",
    "# Standardize features by removing the mean and scaling to unit variance\n",
    "data = StandardScaler().fit_transform(data)\n",
    "file_full_path = np.load('data_imgs.npy')\n",
    "\n",
    "epsilon = 300\n",
    "minimum_samples = 2"
   ]
  },
  {
   "cell_type": "code",
   "execution_count": 3,
   "metadata": {},
   "outputs": [
    {
     "data": {
      "text/plain": [
       "' \\nDefine function to change parameters and make it simple- \\n    - epsilon is a float that describes the maximum distance between two samples for them to be considered as in same \\n      neighbourhood.\\n    - minimum_samples is number of samples in a neighbourhood for a point to be considered as a core point.\\n    - data is our dataset\\n'"
      ]
     },
     "execution_count": 3,
     "metadata": {},
     "output_type": "execute_result"
    }
   ],
   "source": [
    "\"\"\" \n",
    "Define function to change parameters and make it simple- \n",
    "    - epsilon is a float that describes the maximum distance between two samples for them to be considered as in same \n",
    "      neighbourhood.\n",
    "    - minimum_samples is number of samples in a neighbourhood for a point to be considered as a core point.\n",
    "    - data is our dataset\n",
    "\"\"\""
   ]
  },
  {
   "cell_type": "code",
   "execution_count": 6,
   "metadata": {},
   "outputs": [
    {
     "data": {
      "image/png": "[encoded data removed]",
      "text/plain": [
       "<Figure size 432x288 with 1 Axes>"
      ]
     },
     "metadata": {},
     "output_type": "display_data"
    }
   ],
   "source": [
    "wcss =[]\n",
    "for i in range (0,10):\n",
    "    # Initialize DBSCAN with specified epsilon and min. samples. Fit the model with feature matrix X\n",
    "    db = DBSCAN(eps=epsilon, min_samples=minimum_samples, \n",
    "                n_jobs = -1).fit(data)\n",
    "    # Create an array of booleans using the labels from db\n",
    "    core_samples_mask = np.zeros_like(db.labels_, dtype=bool)\n",
    "\n",
    "    # Replace all elements with 'True' in core_samples_mask that are in cluster, 'False' if points are outliers\n",
    "    core_samples_mask[db.core_sample_indices_] = True\n",
    "    labels = db.labels_\n",
    "\n",
    "    # Number of clusters in labels, ignoring noise if present\n",
    "    n_clusters_ = len(set(labels)) - (1 if -1 in labels else 0)\n",
    "\n",
    "    # Black color is removed and used for noise instead.\n",
    "    # Remove repetition in labels by turning it into a set.\n",
    "    unique_labels = set(labels)\n",
    "    \n",
    "    wcss.append(len(unique_labels))\n",
    "\n",
    "# Plot the graph to visualize the Elbow Method to find the optimal number of cluster  \n",
    "plt.plot(range(100,500),wcss)\n",
    "plt.title('The Elbow Method')\n",
    "plt.xlabel('Number of clusters')\n",
    "plt.ylabel('WCSS')\n",
    "plt.show()"
   ]
  },
  {
   "cell_type": "code",
   "execution_count": null,
   "metadata": {},
   "outputs": [],
   "source": [
    "\n",
    "# Initialize DBSCAN with specified epsilon and min. samples. Fit the model with feature matrix X\n",
    "db = DBSCAN(eps=epsilon, min_samples=minimum_samples).fit(data)\n",
    "\n",
    "# Create an array of booleans using the labels from db\n",
    "core_samples_mask = np.zeros_like(db.labels_, dtype=bool)\n",
    "\n",
    "# Replace all elements with 'True' in core_samples_mask that are in cluster, 'False' if points are outliers\n",
    "core_samples_mask[db.core_sample_indices_] = True\n",
    "labels = db.labels_\n",
    "\n",
    "# Number of clusters in labels, ignoring noise if present\n",
    "n_clusters_ = len(set(labels)) - (1 if -1 in labels else 0)\n",
    "\n",
    "# Black color is removed and used for noise instead.\n",
    "# Remove repetition in labels by turning it into a set.\n",
    "unique_labels = set(labels)\n"
   ]
  },
  {
   "cell_type": "code",
   "execution_count": null,
   "metadata": {},
   "outputs": [],
   "source": [
    "n_clusters = len(unique_labels) \n",
    "cluster_data = 'dbscan_cluster_output'\n",
    "for i in range(n_clusters) :\n",
    "    path = os.path.join(cluster_data,str(i))    \n",
    "    if not os.path.exists(path) :\n",
    "        os.makedirs(path)\n",
    "# For the outliers constructing -1 label\n",
    "path = os.path.join(cluster_data,str(-1)) \n",
    "if not os.path.exists(path) :\n",
    "        os.makedirs(path)"
   ]
  },
  {
   "cell_type": "code",
   "execution_count": null,
   "metadata": {},
   "outputs": [],
   "source": [
    "for idx,label in enumerate(labels) :\n",
    "    #print(\"File : {} , Label : {} \".format(file_full_path[idx],label))    \n",
    "    shutil.copy(file_full_path[idx],os.path.join(cluster_data,str(label)))\n"
   ]
  }
 ],
 "metadata": {
  "kernelspec": {
   "display_name": "Python 3",
   "language": "python",
   "name": "python3"
  },
  "language_info": {
   "codemirror_mode": {
    "name": "ipython",
    "version": 3
   },
   "file_extension": ".py",
   "mimetype": "text/x-python",
   "name": "python",
   "nbconvert_exporter": "python",
   "pygments_lexer": "ipython3",
   "version": "3.6.4"
  }
 },
 "nbformat": 4,
 "nbformat_minor": 2
}
