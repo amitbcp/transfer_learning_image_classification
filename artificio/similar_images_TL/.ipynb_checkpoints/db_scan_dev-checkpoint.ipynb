{
 "cells": [
  {
   "cell_type": "code",
   "execution_count": 2,
   "metadata": {},
   "outputs": [],
   "source": [
    "%matplotlib inline\n",
    "import numpy as np\n",
    "from sklearn.cluster import DBSCAN\n",
    "from sklearn.preprocessing import StandardScaler\n",
    "import matplotlib.pyplot as plt\n",
    "from sklearn.datasets.samples_generator import make_blobs"
   ]
  },
  {
   "cell_type": "code",
   "execution_count": 61,
   "metadata": {},
   "outputs": [],
   "source": [
    "# Create random data and store in feature matrix X and response vector y\n",
    "#X, y = make_blobs(n_samples=1500, centers=[[2, 1], [-4, -2], [1, -4]], cluster_std=0.7)\n",
    "data = np.load('feature_vector.npy')\n",
    "\n",
    "# Standardize features by removing the mean and scaling to unit variance\n",
    "data = StandardScaler().fit_transform(X)\n",
    "\n",
    "epsilon = 300\n",
    "minimum_samples = 2"
   ]
  },
  {
   "cell_type": "code",
   "execution_count": 62,
   "metadata": {},
   "outputs": [
    {
     "data": {
      "text/plain": [
       "' \\nDefine function to change parameters and make it simple- \\n    - epsilon is a float that describes the maximum distance between two samples for them to be considered as in same \\n      neighbourhood.\\n    - minimum_samples is number of samples in a neighbourhood for a point to be considered as a core point.\\n    - data is our dataset\\n'"
      ]
     },
     "execution_count": 62,
     "metadata": {},
     "output_type": "execute_result"
    }
   ],
   "source": [
    "\"\"\" \n",
    "Define function to change parameters and make it simple- \n",
    "    - epsilon is a float that describes the maximum distance between two samples for them to be considered as in same \n",
    "      neighbourhood.\n",
    "    - minimum_samples is number of samples in a neighbourhood for a point to be considered as a core point.\n",
    "    - data is our dataset\n",
    "\"\"\""
   ]
  },
  {
   "cell_type": "code",
   "execution_count": 63,
   "metadata": {},
   "outputs": [
    {
     "data": {
      "image/png": "[encoded data removed]",
      "text/plain": [
       "<Figure size 432x288 with 1 Axes>"
      ]
     },
     "metadata": {},
     "output_type": "display_data"
    }
   ],
   "source": [
    "\n",
    "\n",
    "# Initialize DBSCAN with specified epsilon and min. samples. Fit the model with feature matrix X\n",
    "db = DBSCAN(eps=epsilon, min_samples=minimum_samples).fit(data)\n",
    "\n",
    "# Create an array of booleans using the labels from db\n",
    "core_samples_mask = np.zeros_like(db.labels_, dtype=bool)\n",
    "\n",
    "# Replace all elements with 'True' in core_samples_mask that are in cluster, 'False' if points are outliers\n",
    "core_samples_mask[db.core_sample_indices_] = True\n",
    "labels = db.labels_\n",
    "\n",
    "# Number of clusters in labels, ignoring noise if present\n",
    "n_clusters_ = len(set(labels)) - (1 if -1 in labels else 0)\n",
    "\n",
    "# Black color is removed and used for noise instead.\n",
    "# Remove repetition in labels by turning it into a set.\n",
    "unique_labels = set(labels)\n",
    "\n",
    "# Create colors for the clusters.\n",
    "colors = plt.get_cmap('Spectral')(np.linspace(0, 1, len(unique_labels)))\n",
    "\n",
    "# Plot the points with colors\n",
    "for k, col in zip(unique_labels, colors):\n",
    "    if k == -1:\n",
    "        # Black used for noise.\n",
    "        col = 'k'\n",
    "\n",
    "    class_member_mask = (labels == k)\n",
    "\n",
    "    # Plot the data points that are clustered\n",
    "    xy = data[class_member_mask & core_samples_mask]\n",
    "    plt.plot(xy[:, 0],\n",
    "             xy[:, 1],\n",
    "             'o',\n",
    "             markerfacecolor=col,\n",
    "             markeredgecolor='k',\n",
    "             markersize=14)\n",
    "\n",
    "    # Plot the outliers\n",
    "    xy = data[class_member_mask & ~core_samples_mask]\n",
    "    plt.plot(xy[:, 0],\n",
    "             xy[:, 1],\n",
    "             'o',\n",
    "             markerfacecolor=col,\n",
    "             markeredgecolor='k',\n",
    "             markersize=6)\n",
    "\n",
    "plt.title('Estimated number of clusters: %d' % n_clusters_)\n",
    "plt.show()\n",
    "\n",
    "\n",
    "\n",
    "\n"
   ]
  },
  {
   "cell_type": "code",
   "execution_count": 41,
   "metadata": {},
   "outputs": [
    {
     "data": {
      "text/plain": [
       "array([ True,  True,  True,  True,  True,  True,  True,  True,  True,\n",
       "        True,  True,  True,  True,  True,  True,  True,  True,  True,\n",
       "        True,  True,  True,  True,  True,  True,  True,  True,  True,\n",
       "        True,  True,  True,  True,  True,  True,  True,  True,  True,\n",
       "        True,  True,  True])"
      ]
     },
     "execution_count": 41,
     "metadata": {},
     "output_type": "execute_result"
    }
   ],
   "source": [
    "labels.shape\n",
    "core_samples_mask"
   ]
  },
  {
   "cell_type": "code",
   "execution_count": 6,
   "metadata": {},
   "outputs": [
    {
     "data": {
      "image/png": "[encoded data removed]",
      "text/plain": [
       "<Figure size 432x288 with 1 Axes>"
      ]
     },
     "metadata": {},
     "output_type": "display_data"
    },
    {
     "name": "stdout",
     "output_type": "stream",
     "text": [
      "-----------------------------Program Complete---------------------------------\n"
     ]
    }
   ],
   "source": [
    "\n",
    "# Function object\n",
    "display(0.25, 6, X)\n",
    "\n",
    "# Acknowledgement\n",
    "print('-----------------------------Program Complete---------------------------------')"
   ]
  },
  {
   "cell_type": "code",
   "execution_count": null,
   "metadata": {},
   "outputs": [],
   "source": []
  }
 ],
 "metadata": {
  "kernelspec": {
   "display_name": "Python 3",
   "language": "python",
   "name": "python3"
  },
  "language_info": {
   "codemirror_mode": {
    "name": "ipython",
    "version": 3
   },
   "file_extension": ".py",
   "mimetype": "text/x-python",
   "name": "python",
   "nbconvert_exporter": "python",
   "pygments_lexer": "ipython3",
   "version": "3.6.4"
  }
 },
 "nbformat": 4,
 "nbformat_minor": 2
}
