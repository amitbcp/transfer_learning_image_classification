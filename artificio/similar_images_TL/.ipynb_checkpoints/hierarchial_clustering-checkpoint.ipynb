{
 "cells": [
  {
   "cell_type": "code",
   "execution_count": 12,
   "metadata": {},
   "outputs": [],
   "source": [
    "%matplotlib inline\n",
    "import numpy as np\n",
    "from scipy.cluster import hierarchy\n",
    "import matplotlib.pyplot as plt\n",
    "from sklearn.cluster import AgglomerativeClustering\n",
    "from sklearn.datasets.samples_generator import make_blobs\n",
    "from scipy.spatial import distance_matrix\n",
    "import os\n",
    "import shutil\n",
    "# Create a random seed and set it to 42\n",
    "np.random.seed(42)"
   ]
  },
  {
   "cell_type": "code",
   "execution_count": 7,
   "metadata": {},
   "outputs": [
    {
     "data": {
      "text/plain": [
       "(39, 100352)"
      ]
     },
     "execution_count": 7,
     "metadata": {},
     "output_type": "execute_result"
    }
   ],
   "source": [
    "X = np.load('feature_vector.npy')\n",
    "file_full_path = np.load('data_imgs.npy')\n",
    "X.shape"
   ]
  },
  {
   "cell_type": "code",
   "execution_count": 8,
   "metadata": {},
   "outputs": [
    {
     "data": {
      "text/plain": [
       "' Agglomerative Clustering-\\nn_clusters is number of clusters to form and number of centroids to generate\\nlinkage sets which distance to use between sets of observations\\n'"
      ]
     },
     "execution_count": 8,
     "metadata": {},
     "output_type": "execute_result"
    }
   ],
   "source": [
    "\"\"\" Agglomerative Clustering-\n",
    "n_clusters is number of clusters to form and number of centroids to generate\n",
    "linkage sets which distance to use between sets of observations\n",
    "\"\"\""
   ]
  },
  {
   "cell_type": "code",
   "execution_count": 9,
   "metadata": {},
   "outputs": [],
   "source": [
    "n_clusters = 6 \n",
    "cluster_data = 'cluster_output_hierarchial'\n",
    "for i in range(n_clusters) :\n",
    "    path = os.path.join(cluster_data,str(i))    \n",
    "    if not os.path.exists(path) :\n",
    "        os.makedirs(path)"
   ]
  },
  {
   "cell_type": "code",
   "execution_count": 10,
   "metadata": {},
   "outputs": [],
   "source": [
    "\n",
    "agglom = AgglomerativeClustering(n_clusters=n_clusters, linkage='average',affinity='cosine')\n",
    "\n",
    "# Fit the model with X and y from generated data\n",
    "agglom.fit(X, y=None)\n",
    "lables = agglom.labels_"
   ]
  },
  {
   "cell_type": "code",
   "execution_count": 13,
   "metadata": {},
   "outputs": [],
   "source": [
    "for idx,label in enumerate(lables):\n",
    "    #print(\"File : {} , Label : {} \".format(file_full_path[idx],label))    \n",
    "    shutil.copy(file_full_path[idx],os.path.join(cluster_data,str(label)))"
   ]
  },
  {
   "cell_type": "code",
   "execution_count": null,
   "metadata": {},
   "outputs": [],
   "source": []
  }
 ],
 "metadata": {
  "kernelspec": {
   "display_name": "Python 3",
   "language": "python",
   "name": "python3"
  },
  "language_info": {
   "codemirror_mode": {
    "name": "ipython",
    "version": 3
   },
   "file_extension": ".py",
   "mimetype": "text/x-python",
   "name": "python",
   "nbconvert_exporter": "python",
   "pygments_lexer": "ipython3",
   "version": "3.6.4"
  }
 },
 "nbformat": 4,
 "nbformat_minor": 2
}
